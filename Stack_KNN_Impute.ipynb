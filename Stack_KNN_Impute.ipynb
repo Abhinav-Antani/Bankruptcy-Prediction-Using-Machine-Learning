{
  "nbformat": 4,
  "nbformat_minor": 0,
  "metadata": {
    "colab": {
      "name": "Stack_KNN_Impute.ipynb",
      "provenance": [],
      "collapsed_sections": []
    },
    "kernelspec": {
      "name": "python3",
      "display_name": "Python 3"
    },
    "language_info": {
      "name": "python"
    }
  },
  "cells": [
    {
      "cell_type": "markdown",
      "metadata": {
        "id": "qD6b0SIpK2jq"
      },
      "source": [
        "Mount goole drive"
      ]
    },
    {
      "cell_type": "code",
      "metadata": {
        "colab": {
          "base_uri": "https://localhost:8080/"
        },
        "id": "Otn8dUsIFFH2",
        "outputId": "fbe83709-cef7-4dae-a754-322dc74c93ac"
      },
      "source": [
        "from google.colab import drive\n",
        "drive.mount('/content/drive/')"
      ],
      "execution_count": null,
      "outputs": [
        {
          "output_type": "stream",
          "text": [
            "Mounted at /content/drive/\n"
          ],
          "name": "stdout"
        }
      ]
    },
    {
      "cell_type": "code",
      "metadata": {
        "colab": {
          "base_uri": "https://localhost:8080/",
          "height": 35
        },
        "id": "ZwEElRGzHSov",
        "outputId": "677cb58c-694d-4b1b-fc6b-cd239d076091"
      },
      "source": [
        "import os\n",
        "os.chdir('/content/drive/My Drive/Major Project/DataSet')\n",
        "os.getcwd()"
      ],
      "execution_count": null,
      "outputs": [
        {
          "output_type": "execute_result",
          "data": {
            "application/vnd.google.colaboratory.intrinsic+json": {
              "type": "string"
            },
            "text/plain": [
              "'/content/drive/My Drive/Major Project/DataSet'"
            ]
          },
          "metadata": {
            "tags": []
          },
          "execution_count": 2
        }
      ]
    },
    {
      "cell_type": "markdown",
      "metadata": {
        "id": "Oyi7etVHK9_D"
      },
      "source": [
        "Including Necessary Libraries"
      ]
    },
    {
      "cell_type": "code",
      "metadata": {
        "id": "d2TkTPDgMjkq"
      },
      "source": [
        ""
      ],
      "execution_count": null,
      "outputs": []
    },
    {
      "cell_type": "code",
      "metadata": {
        "colab": {
          "base_uri": "https://localhost:8080/"
        },
        "id": "bRu7kslMHdUZ",
        "outputId": "925a9484-0314-4691-e7e0-78b99be2ff9d"
      },
      "source": [
        "import os\n",
        "import pandas\n",
        "import numpy\n",
        "\n",
        "\n",
        "import sklearn.ensemble as ek\n",
        "from sklearn import tree, linear_model\n",
        "from sklearn.feature_selection import SelectFromModel\n",
        "from sklearn.externals import joblib\n",
        "from sklearn.naive_bayes import GaussianNB\n",
        "from sklearn.metrics import confusion_matrix , f1_score , accuracy_score\n",
        "from sklearn.pipeline import make_pipeline\n",
        "from sklearn import preprocessing\n",
        "from sklearn import svm\n",
        "from sklearn.linear_model import LinearRegression\n",
        "from sklearn.linear_model import LogisticRegression\n",
        "from sklearn.ensemble import GradientBoostingClassifier\n",
        "from imblearn.under_sampling import NearMiss\n",
        "import imblearn\n",
        "from mlxtend.classifier import StackingCVClassifier "
      ],
      "execution_count": null,
      "outputs": [
        {
          "output_type": "stream",
          "text": [
            "/usr/local/lib/python3.7/dist-packages/sklearn/externals/joblib/__init__.py:15: FutureWarning: sklearn.externals.joblib is deprecated in 0.21 and will be removed in 0.23. Please import this functionality directly from joblib, which can be installed with: pip install joblib. If this warning is raised when loading pickled models, you may need to re-serialize those models with scikit-learn 0.21+.\n",
            "  warnings.warn(msg, category=FutureWarning)\n",
            "/usr/local/lib/python3.7/dist-packages/sklearn/externals/six.py:31: FutureWarning: The module is deprecated in version 0.21 and will be removed in version 0.23 since we've dropped support for Python 2.7. Please rely on the official version of six (https://pypi.org/project/six/).\n",
            "  \"(https://pypi.org/project/six/).\", FutureWarning)\n",
            "/usr/local/lib/python3.7/dist-packages/sklearn/utils/deprecation.py:144: FutureWarning: The sklearn.neighbors.base module is  deprecated in version 0.22 and will be removed in version 0.24. The corresponding classes / functions should instead be imported from sklearn.neighbors. Anything that cannot be imported from sklearn.neighbors is now part of the private API.\n",
            "  warnings.warn(message, FutureWarning)\n"
          ],
          "name": "stderr"
        }
      ]
    },
    {
      "cell_type": "markdown",
      "metadata": {
        "id": "TpdoXU01LEMh"
      },
      "source": [
        "Load DataSet"
      ]
    },
    {
      "cell_type": "code",
      "metadata": {
        "id": "qGTFQ2R3HfZq"
      },
      "source": [
        "dataset = pandas.read_csv('Tobin12_Missing_Value.csv',sep=',') #type 3\n",
        "#dataset = dataset.drop(['TobinsQ'], axis = 1) #type 2\n",
        "#dataset = dataset.drop(['MarketBookRatio'],axis = 1) #type 4\n",
        "#dataset = dataset.drop(['TobinsQ','OperationalMargin','ReturnOnEquity','MarketBookRatio','AssetsGrowth','SalesGrowth','EmployeeGrowth'],axis = 1) #type 1"
      ],
      "execution_count": null,
      "outputs": []
    },
    {
      "cell_type": "code",
      "metadata": {
        "colab": {
          "base_uri": "https://localhost:8080/",
          "height": 202
        },
        "id": "Y6f_hwCvIqks",
        "outputId": "9c2d723d-00cf-4ca7-b267-7b92b6789298"
      },
      "source": [
        "dataset.head()"
      ],
      "execution_count": null,
      "outputs": [
        {
          "output_type": "execute_result",
          "data": {
            "text/html": [
              "<div>\n",
              "<style scoped>\n",
              "    .dataframe tbody tr th:only-of-type {\n",
              "        vertical-align: middle;\n",
              "    }\n",
              "\n",
              "    .dataframe tbody tr th {\n",
              "        vertical-align: top;\n",
              "    }\n",
              "\n",
              "    .dataframe thead th {\n",
              "        text-align: right;\n",
              "    }\n",
              "</style>\n",
              "<table border=\"1\" class=\"dataframe\">\n",
              "  <thead>\n",
              "    <tr style=\"text-align: right;\">\n",
              "      <th></th>\n",
              "      <th>TobinsQ</th>\n",
              "      <th>Liquidity</th>\n",
              "      <th>Profitability</th>\n",
              "      <th>Productivity</th>\n",
              "      <th>LeverageRatio</th>\n",
              "      <th>AssetTurnover</th>\n",
              "      <th>OperationalMargin</th>\n",
              "      <th>ReturnOnEquity</th>\n",
              "      <th>MarketBookRatio</th>\n",
              "      <th>AssetsGrowth</th>\n",
              "      <th>SalesGrowth</th>\n",
              "      <th>EmployeeGrowth</th>\n",
              "      <th>BK</th>\n",
              "    </tr>\n",
              "  </thead>\n",
              "  <tbody>\n",
              "    <tr>\n",
              "      <th>0</th>\n",
              "      <td>0.98</td>\n",
              "      <td>0.36</td>\n",
              "      <td>0.18</td>\n",
              "      <td>0.13</td>\n",
              "      <td>1.33</td>\n",
              "      <td>1.77</td>\n",
              "      <td>0.07</td>\n",
              "      <td>0.15</td>\n",
              "      <td>2.22</td>\n",
              "      <td>NaN</td>\n",
              "      <td>NaN</td>\n",
              "      <td>NaN</td>\n",
              "      <td>0</td>\n",
              "    </tr>\n",
              "    <tr>\n",
              "      <th>1</th>\n",
              "      <td>0.98</td>\n",
              "      <td>0.36</td>\n",
              "      <td>0.19</td>\n",
              "      <td>0.12</td>\n",
              "      <td>1.31</td>\n",
              "      <td>1.59</td>\n",
              "      <td>0.07</td>\n",
              "      <td>0.13</td>\n",
              "      <td>2.41</td>\n",
              "      <td>0.126</td>\n",
              "      <td>0.014</td>\n",
              "      <td>0.040</td>\n",
              "      <td>0</td>\n",
              "    </tr>\n",
              "    <tr>\n",
              "      <th>2</th>\n",
              "      <td>0.87</td>\n",
              "      <td>0.32</td>\n",
              "      <td>0.13</td>\n",
              "      <td>0.08</td>\n",
              "      <td>1.03</td>\n",
              "      <td>1.55</td>\n",
              "      <td>0.05</td>\n",
              "      <td>0.04</td>\n",
              "      <td>2.56</td>\n",
              "      <td>0.368</td>\n",
              "      <td>0.328</td>\n",
              "      <td>0.567</td>\n",
              "      <td>0</td>\n",
              "    </tr>\n",
              "    <tr>\n",
              "      <th>3</th>\n",
              "      <td>1.13</td>\n",
              "      <td>0.28</td>\n",
              "      <td>0.14</td>\n",
              "      <td>0.08</td>\n",
              "      <td>0.80</td>\n",
              "      <td>1.39</td>\n",
              "      <td>0.06</td>\n",
              "      <td>0.05</td>\n",
              "      <td>5.28</td>\n",
              "      <td>-0.021</td>\n",
              "      <td>-0.119</td>\n",
              "      <td>-0.096</td>\n",
              "      <td>0</td>\n",
              "    </tr>\n",
              "    <tr>\n",
              "      <th>4</th>\n",
              "      <td>1.26</td>\n",
              "      <td>0.41</td>\n",
              "      <td>0.13</td>\n",
              "      <td>0.08</td>\n",
              "      <td>0.20</td>\n",
              "      <td>1.30</td>\n",
              "      <td>0.06</td>\n",
              "      <td>0.04</td>\n",
              "      <td>8.68</td>\n",
              "      <td>0.233</td>\n",
              "      <td>0.147</td>\n",
              "      <td>0.053</td>\n",
              "      <td>0</td>\n",
              "    </tr>\n",
              "  </tbody>\n",
              "</table>\n",
              "</div>"
            ],
            "text/plain": [
              "   TobinsQ  Liquidity  Profitability  ...  SalesGrowth  EmployeeGrowth  BK\n",
              "0     0.98       0.36           0.18  ...          NaN             NaN   0\n",
              "1     0.98       0.36           0.19  ...        0.014           0.040   0\n",
              "2     0.87       0.32           0.13  ...        0.328           0.567   0\n",
              "3     1.13       0.28           0.14  ...       -0.119          -0.096   0\n",
              "4     1.26       0.41           0.13  ...        0.147           0.053   0\n",
              "\n",
              "[5 rows x 13 columns]"
            ]
          },
          "metadata": {
            "tags": []
          },
          "execution_count": 80
        }
      ]
    },
    {
      "cell_type": "code",
      "metadata": {
        "id": "EqP4s4SnIzyk"
      },
      "source": [
        "X = dataset.drop(['BK'],axis=1).values\n",
        "Y = dataset['BK'].values"
      ],
      "execution_count": null,
      "outputs": []
    },
    {
      "cell_type": "markdown",
      "metadata": {
        "id": "tbTNtzTnLL2r"
      },
      "source": [
        "Missing Value handling using KNN Imputation"
      ]
    },
    {
      "cell_type": "code",
      "metadata": {
        "id": "aIBV3lleJLSQ"
      },
      "source": [
        "from sklearn.impute import KNNImputer"
      ],
      "execution_count": null,
      "outputs": []
    },
    {
      "cell_type": "code",
      "metadata": {
        "id": "BCyh63MzJPvd"
      },
      "source": [
        "imputer = KNNImputer(n_neighbors=15, weights='uniform', metric='nan_euclidean')"
      ],
      "execution_count": null,
      "outputs": []
    },
    {
      "cell_type": "code",
      "metadata": {
        "colab": {
          "base_uri": "https://localhost:8080/"
        },
        "id": "_r7spi-eJR4A",
        "outputId": "3b2c4d55-c7ac-48d1-ff1d-753ea09f085c"
      },
      "source": [
        "imputer.fit(X)"
      ],
      "execution_count": null,
      "outputs": [
        {
          "output_type": "execute_result",
          "data": {
            "text/plain": [
              "KNNImputer(add_indicator=False, copy=True, metric='nan_euclidean',\n",
              "           missing_values=nan, n_neighbors=15, weights='uniform')"
            ]
          },
          "metadata": {
            "tags": []
          },
          "execution_count": 84
        }
      ]
    },
    {
      "cell_type": "code",
      "metadata": {
        "id": "QIb507wzJU2n"
      },
      "source": [
        "Xtrans = imputer.transform(X)"
      ],
      "execution_count": null,
      "outputs": []
    },
    {
      "cell_type": "code",
      "metadata": {
        "colab": {
          "base_uri": "https://localhost:8080/"
        },
        "id": "sBy7zpw6JXsM",
        "outputId": "3947d7e5-610b-4e1f-f8a6-370a10eed594"
      },
      "source": [
        "from numpy import isnan\n",
        "print('Missing: %d' % sum(isnan(Xtrans).flatten()))"
      ],
      "execution_count": null,
      "outputs": [
        {
          "output_type": "stream",
          "text": [
            "Missing: 0\n"
          ],
          "name": "stdout"
        }
      ]
    },
    {
      "cell_type": "markdown",
      "metadata": {
        "id": "s67RD8JrLRH_"
      },
      "source": [
        "Downsampling to balance the data set using NearMiss algorithm"
      ]
    },
    {
      "cell_type": "code",
      "metadata": {
        "colab": {
          "base_uri": "https://localhost:8080/"
        },
        "id": "ZGUkATmLJ5oa",
        "outputId": "fdfced7b-3eff-4f49-e9da-1e83a447684b"
      },
      "source": [
        "nm = NearMiss(random_state=42)\n",
        "x,y = nm.fit_sample(Xtrans,Y)"
      ],
      "execution_count": null,
      "outputs": [
        {
          "output_type": "stream",
          "text": [
            "/usr/local/lib/python3.7/dist-packages/sklearn/utils/deprecation.py:87: FutureWarning: Function safe_indexing is deprecated; safe_indexing is deprecated in version 0.22 and will be removed in version 0.24.\n",
            "  warnings.warn(msg, category=FutureWarning)\n",
            "/usr/local/lib/python3.7/dist-packages/sklearn/utils/deprecation.py:87: FutureWarning: Function safe_indexing is deprecated; safe_indexing is deprecated in version 0.22 and will be removed in version 0.24.\n",
            "  warnings.warn(msg, category=FutureWarning)\n",
            "/usr/local/lib/python3.7/dist-packages/sklearn/utils/deprecation.py:87: FutureWarning: Function safe_indexing is deprecated; safe_indexing is deprecated in version 0.22 and will be removed in version 0.24.\n",
            "  warnings.warn(msg, category=FutureWarning)\n"
          ],
          "name": "stderr"
        }
      ]
    },
    {
      "cell_type": "code",
      "metadata": {
        "colab": {
          "base_uri": "https://localhost:8080/"
        },
        "id": "DyeoJRN8J9CV",
        "outputId": "1170b90c-37d4-4dd1-eea8-20965d39bfae"
      },
      "source": [
        "x.shape , y.shape"
      ],
      "execution_count": null,
      "outputs": [
        {
          "output_type": "execute_result",
          "data": {
            "text/plain": [
              "((1116, 12), (1116,))"
            ]
          },
          "metadata": {
            "tags": []
          },
          "execution_count": 88
        }
      ]
    },
    {
      "cell_type": "markdown",
      "metadata": {
        "id": "xScGwUI4LXw6"
      },
      "source": [
        "Test Train Split of the dataset"
      ]
    },
    {
      "cell_type": "code",
      "metadata": {
        "id": "r2g3jrzhKBoe"
      },
      "source": [
        "from sklearn.model_selection import train_test_split\n",
        "X_train, X_test, y_train, y_test = train_test_split(x, y ,test_size=0.2)"
      ],
      "execution_count": null,
      "outputs": []
    },
    {
      "cell_type": "markdown",
      "metadata": {
        "id": "7c6I8P15Ldn6"
      },
      "source": [
        "Base algorithms for Bi-level classification technique"
      ]
    },
    {
      "cell_type": "code",
      "metadata": {
        "id": "yWj6IKAeKEqG"
      },
      "source": [
        "classifier1 = ek.BaggingClassifier(base_estimator=ek.RandomForestClassifier(n_estimators=50),n_estimators=10, random_state=0)\n",
        "classifier2 = ek.AdaBoostClassifier(n_estimators=50)\n",
        "classifier3 = ek.BaggingClassifier(base_estimator=ek.AdaBoostClassifier(n_estimators=50),n_estimators=10, random_state=0)\n",
        "classifier4 = tree.DecisionTreeClassifier(max_depth=10)\n",
        "classifier5 = svm.SVC(kernel = 'linear')\n",
        "classifier6 = GradientBoostingClassifier(n_estimators=100, learning_rate=1.0,random_state=0)"
      ],
      "execution_count": null,
      "outputs": []
    },
    {
      "cell_type": "markdown",
      "metadata": {
        "id": "8ARt1V34Lkgw"
      },
      "source": [
        "Making Stack for Bi-level classification technique."
      ]
    },
    {
      "cell_type": "code",
      "metadata": {
        "id": "lPsxU-fEKMzu"
      },
      "source": [
        "sclf = StackingCVClassifier(classifiers = [classifier1, classifier2,classifier3,classifier4,classifier5],\n",
        "                            shuffle = False,\n",
        "                            use_probas = False,\n",
        "                            \n",
        "                            meta_classifier  = ek.RandomForestClassifier(n_estimators=50) )"
      ],
      "execution_count": null,
      "outputs": []
    },
    {
      "cell_type": "code",
      "metadata": {
        "id": "y8uRMaTtKPoY"
      },
      "source": [
        "classifiers = {\"BaggingR\": classifier1,\n",
        "               \"AdaBoost\": classifier2,\n",
        "               \"BaggingA\": classifier3,\n",
        "               \"Decision Tree\": classifier4,\n",
        "               \"Linear SVM\": classifier5,\n",
        "               \"Gradient Boosting Classifier\": classifier6,\n",
        "               \"Random Forest\": sclf}"
      ],
      "execution_count": null,
      "outputs": []
    },
    {
      "cell_type": "markdown",
      "metadata": {
        "id": "NxLkniOxLsvP"
      },
      "source": [
        "Training of Model"
      ]
    },
    {
      "cell_type": "code",
      "metadata": {
        "id": "sqbo0LftKR8u"
      },
      "source": [
        "for key in classifiers:\n",
        "    # Get classifier\n",
        "    classifier = classifiers[key]\n",
        "    \n",
        "    # Fit classifier\n",
        "    classifier.fit(X_train, y_train)\n",
        "        \n",
        "    # Save fitted classifier\n",
        "    classifiers[key] = classifier"
      ],
      "execution_count": null,
      "outputs": []
    },
    {
      "cell_type": "markdown",
      "metadata": {
        "id": "6YOOhdMnLvyu"
      },
      "source": [
        "Testing of Model"
      ]
    },
    {
      "cell_type": "code",
      "metadata": {
        "id": "FcygjTJ4KU9k"
      },
      "source": [
        "for key in classifiers:\n",
        "    # Make prediction on test set\n",
        "    y_pred = classifiers[key].predict(X_test)"
      ],
      "execution_count": null,
      "outputs": []
    },
    {
      "cell_type": "markdown",
      "metadata": {
        "id": "RFq2CAFILxwT"
      },
      "source": [
        "Evaluation of Model"
      ]
    },
    {
      "cell_type": "code",
      "metadata": {
        "colab": {
          "base_uri": "https://localhost:8080/"
        },
        "id": "EycEp7FZKV3A",
        "outputId": "e59dbe05-cd09-4d70-a6ae-a053336966b5"
      },
      "source": [
        "F1 = f1_score(y_test, y_pred, average='weighted')\n",
        "Accuracy = accuracy_score(y_test,y_pred)\n",
        "print(\"F1: \", F1)\n",
        "print(\"Accuracy: \",Accuracy)"
      ],
      "execution_count": null,
      "outputs": [
        {
          "output_type": "stream",
          "text": [
            "F1:  0.9732142857142857\n",
            "Accuracy:  0.9732142857142857\n"
          ],
          "name": "stdout"
        }
      ]
    },
    {
      "cell_type": "code",
      "metadata": {
        "id": "iN2VY1UeZ-Vm"
      },
      "source": [
        ""
      ],
      "execution_count": null,
      "outputs": []
    }
  ]
}